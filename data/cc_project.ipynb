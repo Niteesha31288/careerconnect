{
 "cells": [
  {
   "cell_type": "code",
   "execution_count": 1,
   "id": "0b3e66e8",
   "metadata": {},
   "outputs": [
    {
     "name": "stderr",
     "output_type": "stream",
     "text": [
      "Using Spark's default log4j profile: org/apache/spark/log4j-defaults.properties\n",
      "Setting default log level to \"WARN\".\n",
      "To adjust logging level use sc.setLogLevel(newLevel). For SparkR, use setLogLevel(newLevel).\n",
      "21/11/29 00:37:51 WARN NativeCodeLoader: Unable to load native-hadoop library for your platform... using builtin-java classes where applicable\n"
     ]
    }
   ],
   "source": [
    "from pyspark.sql import SparkSession\n",
    "\n",
    "spark = SparkSession.builder \\\n",
    "    .master(\"local[*]\") \\\n",
    "    .appName(\"cc_project\") \\\n",
    "    .getOrCreate()"
   ]
  },
  {
   "cell_type": "code",
   "execution_count": 2,
   "id": "adc23ead",
   "metadata": {},
   "outputs": [
    {
     "data": {
      "text/html": [
       "\n",
       "        <div>\n",
       "            <p><b>SparkContext</b></p>\n",
       "\n",
       "            <p><a href=\"http://jupyter-dg3483:4040\">Spark UI</a></p>\n",
       "\n",
       "            <dl>\n",
       "              <dt>Version</dt>\n",
       "                <dd><code>v3.2.0</code></dd>\n",
       "              <dt>Master</dt>\n",
       "                <dd><code>local[*]</code></dd>\n",
       "              <dt>AppName</dt>\n",
       "                <dd><code>cc_project</code></dd>\n",
       "            </dl>\n",
       "        </div>\n",
       "        "
      ],
      "text/plain": [
       "<SparkContext master=local[*] appName=cc_project>"
      ]
     },
     "execution_count": 2,
     "metadata": {},
     "output_type": "execute_result"
    }
   ],
   "source": [
    "sc = spark.sparkContext\n",
    "sc.setLogLevel(\"ERROR\")\n",
    "sc"
   ]
  },
  {
   "cell_type": "code",
   "execution_count": 3,
   "id": "3f831312",
   "metadata": {},
   "outputs": [],
   "source": [
    "from pyspark.sql.functions import *"
   ]
  },
  {
   "cell_type": "code",
   "execution_count": 30,
   "id": "7fb6b6b2",
   "metadata": {},
   "outputs": [],
   "source": [
    "skills = spark.read.option(\"header\",True) \\\n",
    ".option(\"inferSchema\", True) \\\n",
    ".csv(\"UpdatedResumeDataSet.csv\")"
   ]
  },
  {
   "cell_type": "code",
   "execution_count": 31,
   "id": "d738aeec",
   "metadata": {},
   "outputs": [
    {
     "name": "stdout",
     "output_type": "stream",
     "text": [
      "+----------------+--------------------+\n",
      "|        Category|              Skills|\n",
      "+----------------+--------------------+\n",
      "|Technical Skills|Python, pandas, n...|\n",
      "+----------------+--------------------+\n",
      "\n"
     ]
    }
   ],
   "source": [
    "skills.show(2)"
   ]
  },
  {
   "cell_type": "code",
   "execution_count": 32,
   "id": "4f6979f1",
   "metadata": {},
   "outputs": [],
   "source": [
    "df0= skills.select(initcap(col(\"skills\")).alias(\"Skills\"))"
   ]
  },
  {
   "cell_type": "code",
   "execution_count": 33,
   "id": "73098506",
   "metadata": {},
   "outputs": [
    {
     "data": {
      "text/plain": [
       "[Row(Skills='Python, Pandas, Numpy, Scipy, Scikit-learn, Matplotlib, Sql, Java, Javascript, Jquery, Regression, Svm, Bayes, Knn, Random Forest, Decision Trees, Boosting Techniques, Cluster Analysis, Word Embedding, Sentiment Analysis, Natural Language Processing, Dimensionality Reduction, Topic Modelling, Lda, Nmf, Pca , Neural Nets, Mysql, Sqlserver, Cassandra, Hbase, Elasticsearch, D3.js, Dc.js, Plotly, Kibana, Matplotlib, Ggplot, Tableau, Regular Expression, Html, Css, Angular 6, Logstash, Kafka, Python Flask, Git, Docker, Computer Vision, Understanding Of Deep Learning ,statsmodel, Aws, Keras, Sklearn, Matlab, Python, Java, Labview, Django, Flask, Ltspice, Mipower, Github, Gitbash, Jupyter Notebook, Xampp, Mysql, Python, Anaconda, Python2, Python3, Pycharm, Java Ide-eclipse, Windows, Ubuntu, Debian-kali, Linux,  R, Python, Sap Hana, Tableau, Sap Hana Sql, Sap Hana Pal, Ms Sql, Sap Lumira, C#, Linear Programming, Data Modelling, Advance Analytics, Scm Analytics,  Retail Analytics, Social Media Analytics, Nlp, C, Iot, Python, Matlab, Data Science, Machine Learning, Html, Microsoft Word, Microsoft Excel, Microsoft Powerpoint, Python, Tableau, Data Visualization, R Studio, Machine Learning, Statistics, Python, C, Seaborn, Numpy, Pandas, Cufflinks, Matplotlib, Knn, Decision Tree, Linear Regression, Logistic Regression, Neural Networks, K Means Clustering, Tensorflow, Svm, Sql, Oracle, Linux, Window, Netbeans, Notebooks, Sublime, Service Now, Remedy, Machine Learning, Deep Leaning, Nlp, Python, Sql, Web Scraping, Html,css, Text Classification, Recurrent Neural Networks(rnn, Pandas, Scikit-learn, Tensor Flow , Nltk, Matplotlib, Numpy, Sql, Mysql, Lsa With Cosine Similarity, Selenium Web Driver, Beautiful Soup, Data And Quantitative Analysis, Decision Analytics, Predictive Modeling, Data-driven Personalization, Kpi Dashboards, Big Data Queries And Interpretation, Data Mining, Visualization Tools, Machine Learning Algorithms, Business Intelligence, Bi, Research, Reports, Forecasts, Typewriting, Tora, Spss, Human Resource, Finance, Windows Xp, Ms Officeword , Excel,  Power Point, Saral Payment Package- Payroll Software, Internet Applications, Hr Operations, Computerized Accounting With Tally, Sincere & Hard Working , Management Accounting, Income Tax, Good Communication, Leadership, Two And Four Wheeler Driving License, Internet & Ecommerce Management, C Language,  Web Programing, Tally, Dbms, Ms Office, Microsoft Dynamics Ax Software, Saiba Software, Dynamics, Dynamics Ax, Microsoft Dynamics, Microsoft Dynamics Ax, Ms Office, Attendance Maintenance, Time Cards Maintenance, Staffs And Labors Individual Records Maintenance, General Computer Proficiency, C, C+, Java, Web Programming, Matlab, Dbms, Communication And Analytic Skills, Database Management System, Dbms, Java, Matlab, Angular Js, Html5, Css3, Sass, Bootstrap, Jquery, Javascript, Brackets, Visual Studio, Photoshop, Visual Studio Code, Html, Css, Bootstrap, Php, Jquery, Ajax, Java Script, C , Java, Html5, Css3, Bootstrap, Javascript, Jquery, Corel Draw, Photoshop, Illustrator,  Mysql,  Sublime Text, Notepad, Windows Xp, Windows, Java, Javascript, C, C++, J2ee, Spring, Hibernate, Functional Testing, Manual Testing, Windows , Linux, Ms-office, My Sql, Postgresql, Angular, Java, Sql, Pl/sql, C, C++, Bootstrap, Jsp, Ext Js, Windows, Toad, Eclipse, Soapbox, Postman, Oracle, Ms-sql, Ms-access, Ms-excel,  Xml, Web Services, Java, J2ee, Swift, Html, Shell Script, Mysql, Svn, Jenkins, Hudson, Weblogic12c,  Android Studio, Eclipse, Oracle, Xcode, Win 10, Mac ,high Sierra, Android, Mobile App Development, Core Java, Advance Java, Jsf, Hibernate, Spring, C, Object Oriented Programming, Oot, C++,  Database, Pps, Programming And Problem Solving, Advance Database, Ias,  Information Assurance And Security, C++, C, Java, Ds, Jdbc, Hibernate, Java J2ee, Javascript, Jquery, Ajax, Ms Office, Excel, Springmvc, Hibernate, Jdbc, Java, J2ee, Azureweb, Suntechnologies, Jsp, Struts, Servlet, Restapi, Javascript, Ajax, Html, Json, Php, Mssql, Mysql, Oracle, Apachetomcatserver, Internet Technologies, Web Push Notifications, Azure Web Services, Ionic, Windows Server, R2, Win, Linux, Mac Os , Angular Js, Windows, Visual Basic, Uml, Packet Tracer, Web Technologies, Core Java, Advance Java, Jsp, Hibernate, Spring, C, C++, Sql, Servlet, Jsp, Servlet, Html, Css, Java Script, Jquery, Ajax, Spring, Hibernate, Microsoft Windows, My Sql, Oops, Core Java, Advance Java, Eclipse, Net Beans Ide, Apache Tomcat, Jsp, Javascript, Html, Css, Jquery, Ajax, Json, Jdbc,tomcat, Mongodb, Mysql, Eclipse, Spring, Hibernate, Maven, Java, Servlet, Jsp, Spring Boot, Html5, Css3, Bootstrap, Javascript, Jquery, Ajax, Angularjs, Mysql, Eclipse, Spring, Suit, Net Beans, Sublime Text, Atom, Windows, Core Java, Jsp, Servlet, Spring, Hibernate, Struts, Javascript, Java, Windows, Linux, Centos, Oracle, My Sql And Derby, Embedded Db, Eclipse, Oxygen, Sonarqube, Putty, Adavance Java, Business Requirement Document, Brd, Functional Specification Document, Fsd, Iis, Jboss, Sql, Oracle, Db2, Ireport, Crystal Report, Requirement Gathering, Requirement Analysis, Design Specifications, Client Communication, System Documentation, Problem Solving, Sdlc, Windows Os, Unix, Linux, Ubuntu, Java, C++, Javascript, Html, Citrix Software, System Architect, Quality Center, Tortoise Svn, Doors, Artifact Viewer, Jformdesigner, Jira, Microsoft D365, Microsoft Office, Ms Excel, Ms Powerpoint, Ms Visio, Autocad, Vlsi, Ms-cit, Visio, Functional Testing, Business Analysis, System Architect, Uml, Hp Quality Center, Mwb, Test Data Creation, Test Case Writing, Test Case Execution, Manual Testing, Regression Tests, Bizagi, Ms Visio Prototyping Tool, Indigo Studio, Ms Office, Ms Word, Ms Excel, Ms Power Point, Smoke Testing, Sanity Testing, Integration Testing, Functional Testing, Acceptance Testing, Ui, Waterfall, Agile, Scrum, Sql, Hpqc Business Exposure, Windows, Ms-office, Excel, Word, Powerpoint, Html, Java, Php, Data Warehousing, Sql/pl Sql, Core Java, Python, Sap Bods, Sap Bo, Oracle 11g, Sybase, Etl, Sap Abap, Ale, Idoc,  Edi, Sap Netweaver Gateway, Odata, Fiori, Is-retail, Apo, Is-auto, Ewm, Sap Techno, Sap Sd, Sap S, 4hana, Mm, Fi, Co, Sd, Ps, Pp, Cs, Pm, Qm,  Hr, Scm, Solman, Sap Gts, Sap Pi, Sap Bi, Vistex, Proship, Hpqc, Ibm Managenow, Ca Service Desk, Loftware, Data Matrix, Sap Hana, Sap Bo, Sap Hana Sps12, Sap Ecc, Sql, Remedy, Sharepoint, Sap Logon, Webi, Power Bi, Sap Business Intelligence, Sap Bo, Design Studio, Idt, Webi, Udt, Cmc, Db Hana, Bw, Bex Queries, Sql, Sap Bi, Teradata Db, Query Builder, Hpsm Ticketing Tool, Smartforms, Selenium Webdriver, Sikuli,  Autoit, Jira, Hpqc, Alm, Scrum, Plc, Pac, Scada, Hmi, Interfacing, Drives, Mcc Panel, Vfd, Plc Hardware, Ab, Schneider, Siemens, Omron, Delta, Abb, Ge-fanuc, Control Relay Logic, Ladder Logic, Scada, Intouch, Vijeo-citect, Wincc, Ifix, Factory Talkview, Opc (kepware), Hmi, Interfacing, Vfd, Honeywell Dcs C-300, Autocad, Eplan, Rockwell, Twido-suite, Step7-microwin Sp2, Unity Pro Xl, Cx-programmer, Wpl Software, Codesys, Versa Pro, Wonderware, Citectscada7.4, Proficy Hmi Scada/ifix, Factotytalk View, Windows, Mac, Selenium Webdriver, Testng,  Data Driven, Page Object Model, Eclipse, Postman, Version Control, Continuous Integration, Maven, Svn, Jenkins, Sql, Java, C++, Html, Javascript, Windows, Employee Resource Group, Enterprise Resource Planning, Jsf, Rich Faces, Spring, Restful Web Service, Agile Methodology, Scrum, Kanban, Extreme Programming, Xp, Test-driven Development, Tdd, Feature Driven Development, Fdd, Modular, Data Driven, Bpt, Hybrid Test, Hp Uft, Taf, Load Runner, Selenium, Rational Robot, Dcmtk, Sikuli, Vb Script, C++, Python, Shell Script, Bugzilla, Jira, Hp Quality Control, Ap Test, Clear Quest, Clear Case, Win Cvs, Svn, Oracle, Sql Server, Mysql, Tcp, Ip, Http, Https, Vpn, Ftp, Ldap, Dicom, Pacs, Hl7, Image Archiving, Image Reconstruction, Rockwell Automation, Logix Designer, Factory Talk, Rslinx Classic, Control Flash, Compare Tool, I/o Modules, Profiles, �manual And Automation Testing, Selenium Ide, Testng, Selenium Grid, Jenkins, Apache Poi, Sdlc, White Box Testing, Black Box Testing, Functional Testing, Integration Testing, System Testing, Ad Hoc Testing, Smoke Testing, Usability Testing., Reliability Testing, Exploratory Testing, Globalization Testing, Compatibility Testing, Stlc, Regression , Retesting, Defect Tracking, Defect Life Cycle, Test Plan, Traceability Matrix, Api Testing, Sanity Testing, Ad Hoc Testing, Regression Testing, Selenium Webdriver, Smoke Testing, Black Box Testing, Ad-hoc Manual Testing, Core Java, Selenium Web Driver, Selenium, Ms Sql Server, Oracle 10g, Windows, Agile Methodology,  Sdlc, Estimate & Solution Document, Fs, Ts, Coding, Utp, Utr, Ptf, Sow, Debugging, Testing, Python, As/400, Change Controller, Python Web Crawling, Python Web Scraping, Python For Data Science, Mongodb, Mysql, Postgresql, Django, Angular 6, Html, Css, Core Java, Ibm I Series As\\\\400, Movex Erp,  Rpg, Rpgle, M3 Erp, Stream Server, M3 Enterprise Collaborator, Mec, Flask, Restful, Rest, Numpy, Cache, Memoization, Git, Pws, Pivotal Web Service, Cl/400, Ile Rpg, Ile Cl, Db2/400, Query400, Sql/400, Subfiles, Printer Files, Pf, Lf,database Structure, Mi Programs, Ubuntu, Fedora, Cent Os, Windows, Mysql, Python, Tensorflow, Numpy, C, C++, Python, Django, Drf, Mysql, Oracle, Sqlite, Mongodb, Css, Html, Restful Web Services, Rest Methodologies, Agile, Scrum, Github, Jira, Window, Unix, Logger, Json, Urllib, Python, Database, Mysql, Django, Html5, Rest Api, Opencv, Pil, Numpy, Git, Windows, Ms Excel, Ms Office, Ms Power Point, Python Scripting, Html, Python Liabrary, Numpy, Pandas, Matplolib, Requests, Beautiful Soap, Mysql, Django, Web Scrapping , C, C ++, Java, Tk, Cloud Computing, Shell Scripting, Python, Automation, Solution Architect, Aws Cloud, Azure Cloud, Aws Ec2, Rds, Cloudformation Template, Lambda, Dynamo Db,  Cloud Watch, Auto-scaling, Elastic Bean Stalk, Appdynamics, C, Sql, Pl/sql, Java, Javaee, Javascript, Html, Css, Jquery, Mysql, Spring , Hibernate, Xillinx, Modelsim, Matlab, Multisim, Windows Xp, Vista, Ubuntu, Aws, Python, Ant, Maven, Git, Bitbucket, Jenkins, Linux, Ansible, Shell Scripting, Requirement Gathering, Continuous Integration, Continuous Deployment, Software Development Life Cycle, Software Testing Life Cycle, Documentation, Reporting, Test Reports, Dev-ops Methodologies, C, Core Java, Apache Tomcat Server, Change Management, Configuration Management, .net, Sharepoint, Ms Sql, Oracle, Pl/sql, Project Management, Execution, Cloud Computing, Azure, Amazon Aws, Ec2, Cloud, Xml, Xaml, Xslt, Html5, Dhtml, Css3, Javascript, Jquery, Json, Angularjs, Web Api, Odata Service, Vbscript, Node Js, Qa Activities, Ui Design, Mobile Development, Java, Jsp, Swing, J2ee, Service Oriented Architecture, Soa, Web Service, Wcf Service, Web Api, Requirement Gathering, Mvc, Mvp, Abstract Factory, Ooad, Uml, .net Sap Connector, Sap, Asp.net Client Management, Sap Web Channel, Sap Enterprise Portal Environment, Android, Ios, Team Foundation Server, Tfs, Github, Ibm Rational Key, Account Management, Devops, Team Forge, Sharepoint, Portal Administration, Development, Collabnet, Jira, Iot , Web Analytics, Data Analytics, Machine Learning, Ai, Expertise Bi Tools, Crystal Report, Escalation Management, Ssrs, Tableau, Micro Strategy, Qlikview, It Network, Infrastructure Monitoring Tool, Centreon, Cisco, Meraki, Biztalk, Bam, Microsoft Sharepoint, Sharepoint, Sql, Asp, Asp.net, Virtual Reality, Wearable Technology, Machine Learning, Ai, 3d Printing, C#, Wcf,, Wwf, Jquery, Json, Javascript, Html 5, Css3, Windows Azure Cloud, Sharepoint, N-hibernet, Nunit Test, Telerik Controls, Sql Server,  T-sql, Moss, Ssis, Crystal Report, Dreamweaver, Xml, Xslt, Web Parts, Ajax, Oracle 8i, Sap Connector, Vpn, Vb.net, Xml, Oracle 9i, Pl/sql, Toad, Java Jsp, Servlet, Swing, Vb 6, Vc++, Ms Sql Server, Ms Data Report, Macromedia Flash, Fire Works, C++, Vb6, Sql2000, Lotus Notes, Ms Active Report, Vc ++, Matlab, Project Management, Program Management, Agile, Scrum, Risk Management, Client Management, Process Improvements, Proposals, Rfe, Selenium, Rally, Ibm Td Platform, Python, Devops, Devsecops, Safe, Agile Craft, Delivery Management, Test Management, Project Finance, Program Finance, Profit Maximization, Internal Audits,  External Audits, Software Testing, Quality Assurance, Visual Basic 6.0, Ms-sql Server, Oracle 8/8i, Conformiq, Hp Qc, Hp Qtp, Crystal Report , Data Base Design, Php, Python, Mysql, Javascript, Html 5, Ajax, Jquery, Xml, Agile Methodology, Devops Methodology, Scrum Framework, Jira Tool, Git, Bitbucket, Anjular Js 1, Angular Js 2, Core Java, J2ee, Amazon Aws , Bootstrap, Node.js, Laravel, Scrum, Hp Alm, Rtc, Jira,  As400 , Iseries, Sql, Test Automation, X- Framework, Uft, Lisa, Test Data Automation, Catdm, Test Scheduling, Jenkins, Maven, Test Document, Versioning, Confluence, Sharepoint, Cucumber, Selenium, Bdd, Tosca, Ci/cd, Network Security, Checkpoint, Cisco, Cisco Asa, Cisco Routing And Switching, Loadbalncing F5, Security, Cisco, Vpn, Lan, Networking, Cisco Certified Network Associates, Ccna ,  Ethernet Mediums, Ethernet Communication, Ethernet Communication Devices, Ipv4 Subnetting, Ipv4 Supernetting, Routing, Switching, Access Lists, Network Address Translation (nat), Virtual Lans , Vlans, Cisco Certified Network Associates, Ccna-security,  Access Attacks, Reconnaissance Strategies, Configuration Of Firewalls, Access Control Lists, Private Vlans, Vlan Hopping, Ip Source Guard, Dhcp Snooping, Authentication, Authorization & Accounting , Aaa, Ip Security, Ipsec, Cisco Certified Network Professional, Ccnp-routing, Switching & Mpls, Routing-configuration,  Eigrp, Ospf, Bgp, Switching-virtual Lans, Vlans, Spanning Tree Protocol, Stp, Queuing, Mpls, Multi-protocol Label Switching, Penultimate Hopping, Cisco Certified Network Professional Security, Asa Module, Control Plane Security, Management Plane Security, Data Plane Security, Network Telemetary Ntp, Netflow, Logging, Nat Fundamental, Firewall Filtering Technologies, Asa Modes, Asa Failover, Security Context, Reputation Based Firewall, Identity Firewall, Zone Based Firewall, Networking, Subnetting, Supernetting, Access Lists, Acls, Network Address Translation, Nat, Vlan, Aaa, Ipsec, Access Control Lists, Dhcp Snooping, Private Vlan, Vlan Hopping, Vpn, Routing Protocols, Rip, Eigrp, Ospf, Bgp, Dm-vpn, Switching, Control Plane Security, Data Plane Security, Management Plane Security, Network Telemetary, Firewall, Firewall Filtering Technologies, Asa Failovers,  Zone Based Firewall, Reputation Based Firewall, Security Context, Security, Network Security, Network Administration, Firewall Configuration, Vpn Configuration, Routing, Switching, Cisco Asa, Checkpoint Firewall, Gaia, Splat, Palo Alto Firewalls, Firewall Management Tools, Cisco Security Management, Csm, Checkpoint Smart Center, Palo Alto Panorama, F5 Load Balancer, Ltm, Networking, Cisco Router, Cisco Switches, Security Management, Event Management, Rsaenvision 4.1, Ticketing Tools,  Bmc Remedy, Service-now, Python, Vb Scripting, Juniper, Windows, Linux, Ubuntu, Cisco Routing, Cisco Switching, Intervlan Routing, Dynamic Protocols, Ripv2, Ripng, Ospf, Eigrp, Static Routing, Acl, Vtp, Vlan, Ehterchannel, Hsrp, Stp, Ipv6, Lan Troubleshooting, Structured Network Cabling, Cisco Firewall, Fortinet Firewall, Rhel 6 Networks, Cisco Routers, Cisco Switches, Cisco Catalyst, Hp Proliant Servers, Dell Server, Lenovo Servers, Fortinet Firewall, Modem, Ad, Rodc, Ftp, Print Server, Sccm, Wds, Dhcp, Group Policies, Dhcp Server, Dns Server, Ris Server, User Policies, Computer Policies, Server 2016 Backup Tools, Symantec Backup Exec 12d, Virtualisation, Vmware Esxi, Vmware Workstation, Oracle Virtualbox, Gns3 Network Simulator, Cisco, Dhcp, Dns, Ftp, Lan, Sql, Sql Server, Postgresql, Oracle 11g, R2, Redhat Linux, Oracle Linux, Windows Server, Gui, Silent Dbca, Architecture, File Management, Space Management, User Management, Creating Roles, Assigning Privileges, Troubleshooting, Control Files, Redolog, Archive, Undo Management, Configuring Listener.ora, Configuring Tnsnames.ora, Netmgr, Netca,  Awr Reports, Addm, Ash, Database Backup, Cloning/duplicate, Hot Backups, Cold Backups, Rman, Flashback Technologies, Expdp, Impdp, Oracle11g R2 Rac, Crsctl, Srvctl, Data Guard, Ldap Authentication, Gssapi Authentication,  Emc Technology, Window Server, Sql Server, Sybase Ase Server, Oracle, Mongodb, Monitoring, Ticketing Tools,  Hp Service Manager, Solar Winds Dpa, Jira, Mongodb Ops Manager, Web Server Iis 7.0, Ssms, Dbartisan, Studio 3t, Snapshot Manager, Windows Server, Ms Litespeed, Idera Sql Safe, Ssms, Upgrade Advisor, Sql Server Profiler, Scom, Diagnostic Manager, Remedy, Jira, Infopacc, Tivoli Tdp Backup Tool, Sql Pack, Ms Sql Server, R2, Oracle 10g, Netezza, Microsoft Azure , Database Mirroring, Performance Tuning, Log Shipping, Installation , Upgrade, Migration And Patching , Azure Vm, Azure Storage, Azure Network, Azure Ad, Azure Sql Database, Incident Management, Change Management And Problem Management, Availability Groups, Clustering, Dba Support, Oracle Dba, Mysql, Mariadb, Postgresql, Sql Oracle , Mysql, Mariadb, Postgresql Windows, Linux, Putty, Database Administration, Mysql Dba , Centos , Backup , Restore , Replication , Query Optimazation, Scripts, Server Shifting , Tuning Parameter , Database Purging, Mysql Master Slave Replication, Release Management, User Acceptance, Linux, Windows, Linux, Windows Server, R2, Windows 98, Windows, Sql* Loader, Sql*plus, Oem, Datapump, Expdp, Impdp, Plsql Developer, Jenkins, Oracle 10g, Oracle 11g, Oracle 12c, Scripting, Unix Shell Scripting, Sql, Rac, Golden Gate, Asm, Dataguard, Aws Cloud Services, Ec2, S3, Rds, Elb, Ebs, Vpc, Route53, Auto, Cloud Watch, Cloud Front, Iam, Awr Reports, Ash Reports,addm Reports, Oracle Rdbms, Data Pump, Rman, Data Guard, Asm, Rac, Golden Gate, Occ, Putty, Sqlplus, Sql Developer, Netbackup, Scom, Sccm, Vmware, Vsphere, Rhel 6.0, Rhel 6.5, Unix, Microsoft Windows, Rdbms, Ms Sql, Windows, Windows Server,  Ms Office,  Ssms, Performance Monitor, Sql Profiler, Sql Lite Speed, Dr Tests, Oracle Databases, Weblogic, Grid Infrastructure, Rman,  Asm, Oim, Oam, Soa, Shell Scripts, Dataguard, Ohs, Apache, Architecture Designs, Proof Of Concepts, Devops, Middleware, Fw Openings, Loadbalancer Configuration,  Smtp, Ftp, Reverse Proxy, Ocm, Rcusql, Oracle, R , Python, Linear Regression, Machine Learning, Statistical Modelling , Capacity Planning, Installation, Configuration, Database Design, Migration, Security, Troubleshooting, Backup, Data Recovery, Spark Scala, Spark Sql, Test Scenarios, Test Cases, Multi Cluster On Aws, Hdfs, Mapreduce, Pig, Hive, Hbase, Zookeeper, Distributed Processing Algorithms, Sqoop,  Oracle, Teradata, Rdbms , Mysql , Java, Linux, Nosql, Storm, Tomcat, Putty, Svn, Github, Ibm Websphere V8.5,  Flume, Oozie, Visualization,  Cloudera, Shell Scripting,  Pl/sql, Python, Hadoop, Map Reduce, Hdfs, Hive, Sqoop, Java, Hadoop Distributed File System, Scala,  Spark, Hive, Hbase,  Mysql, Oracle, Shell Scripting, Eclipse,  Linux, Windows, Git, Github, Linux, Ubuntu, Windows 2007/08, Tableau, Svn, Beyond Compare, Hadoop,spark,sqoop,hive,flume,pig, Sparkapi, Cloudera Hadoop Yarn, Orc,  Parquet, Sql, Hadoop-hdfs, Mapreduce, Hive, Pig, Sqoop, Hbase Oozie, Spark, Pyspark, Hue, Cassandra, Python, Core Java,  Scala, Oracle 10g, Mysql, Sqlserver, Hbase, Eclipse, Toad, Ftp, Tectia, Putty, Autosys, Anaconda, Jupyter Notebook, Devops, Rtc, Rlm,  Jsp,  Windows, Unix, Machine Learning,  Hdfs, Yarn, Hive, Sqoop, Hbase, Tez, Tableau, Sqlserver, Teradata, Hdfs, Yarn, Hive, Oozie, Spark, Unix, Autosys, Python, Rtc, Rlm, Etl, Apache Hadoop, Python, Shell Scripting, Sql, Hive, Pig, Sqoop, Flume, Oozie, Impala, Hdfs,  Dataiku, Unravel, Cloudera, Putty, Hue, Cloudera Manager, Eclipse, Resource Manager, Hadoop, Hive, Sqoop, Flume, Pig, Mapreduce, Python, Impala, Spark, Scala, Sql, Unix,  C, C++, Java, .net., J2ee, Html5, Css, Mapreduce, Javascript, Python,  Oracle ,pl-sql, My-sql, Ibm Db2 Tools, Ibm Rational Rose, R, Weka,  Windows Xp, Vista, Unix, Windows 7, Red Hat, Hdfs, Mapreduce, Hive, Spark, Scala, Sqoop, Kerberos,  K-means Clustering, Random Forest, Bayes, Azure And Aws, Emr, Hadoop, Hdfs, Hbase, Map Reduce, Sqoop, Hive, Pig, Spark-core, Flume, Scala, Core-java, Sql, Plsql, Sell Scripting Etl, Informatica Power Center8.x/9.6, Talend 5.6, Eclipse, Intellij Idea, Windows Family, Linux, Unix, Cloudera,  Mysql, Oracle, Unit Case Testing, Uat, Informatica Power Center, Mapping Designing, Extract, Transform, And Load,  Integration Of Sql, Integration Of Server Tables, Integration Of Flat Files, Data Warehouse, Sql, Plsql, Microsoft Sql Server, Unix, Shell Scripting, Error Debugging, Job Scheduling, Autosys, Incident Management, Change Requests, Service Now, Jira, Agile Central, Intellimatch, Reconciliation Tool, Oracle 11g, Investment Banking, Advertising, Insurance, Sql, Plsql, Informatica 9.1, Windows, Unix, Data Warehousing, Business Intelligence, Etl, Extract, Transform, Load, Oracle 11g, Facets 5.0, Tidal, Informatica,  Pl-sql, Unix, Jira, Putty, Talend Big Data, Informatica Power Center, Microsoft Sql Server, Sql Platform 6.2.1,  Management Studio Workbench, Aws Services, Talend Administration Console, Microsoft Visual, Redshift Studio, Tac Studio, Athena, Data Warehouse,  Star, Sql, S3 Schema, Facts, Dimension, Data Modeling, Data Integration,  Microsoft Access, Sql, Unix, Data Warehouse, Ab Intio, Datastage, Etl, Asp .net, Html, Css, Jquery, C, C++, C#.net, Mvc 5, Sql Server 2005/2008/2016, Kindo Ui, Telerik Functions, Crystal Report,  Visual Stadio, Asp.net, Mvc, Unit Testing, Entity Framework 6.0, C#, .net, Js, Javascript, Jquery, Angular1.5, Typescript, Visual Studio , Visual Studio Code , .net Framework 2.0, .net Framework  3.5, .net Framework  4.0, .net Framework  4.5, Sql Server 2005, 2008, 2014, 2015, Tortoise Svn, Git, C, C#, Oop, Asp.net Mvc, Ado.net, Entity Framework, Linq , Html, Css,  Javascript, Jquery, Ajax, Json,  Internet Explorer 8.0, Mozilla Firefox10,  Bootstrap, Kendo Ui,  Sql Server 2012, Visual Studio 2013, Ms Window 2007, C#, .net, Asp.net Mvc, Web Api, Angular, Jquery, Html5, Css3, Bootstrap, Sql Server 2014, Visual Studio 2015, Visual Studio Code, Ms-office , Access, Word, Excel, Asp.net,c#, Html, Css, Sql, Javascript, Sql Server , C#, Asp .net Mvc, Html, Css, Javascript, Angularjs,  Entity Framework,  Sql Server 14, Visual Studio 13,dot Net, Blockchain, Smart Contracts, Dapps, Mean Stack , Bit Bucket, Apis, Ethereum, Smart Contracts, Golang, Nodejs, Angular, React,  Mongodb, Postgresql, Mysql, Aws, Docker, Microservice,s Blockchain, Protocol, Consensus, Dapps, Solidity, Mean Stack, Express, Cakephp, Php Framework, Jquery,  Ecommerce Framework, Opencart, C, C++, Python, Apex, Visualforce, Mysql, Django, Salesforce, Force, Salesforce Crm, Blockchain, Html5, Css3, Ap, Customer Relationship Management, Smart Contract, Waves, Ethereum, C, C++, Java, Windows Xp, 7, Ubuntu,  Oracle, My Sql, Postgresql, Html, Javascript & Php, Css, Jquery, Angular Js, Struts, Hibernate, Spring, Mvc, Tomcat, Glassfish, Rest, Soap , Bitcoin, Ethereum, Smart Contract, Solidity, Api,  Java Spring, Audit Logger, Doc Safe,  Ripple, Hyperledger Fabric , Node Js, React Js, Express Js, Bitcoin, Ethereum, Solidity, Hyperledger, Go, R3 Corda, Tendermint, Nodejs, C , Java, Machine Learning, Brain Computer Interface, Computer Networking, Server Admin, Computer Vision, Data Analytics, Cloud Computing, Reactjs, Angular Js, Logical And Analytical Skills, Positive Attitude, Solving Problems, Accepting Challenges, Team Player, Leader, Organizer, Ms-office, Powerpoint, Word, Outlook, Excel, C, Cpp, Java, Networking, Linux, Android, Database, Selenium, Automation Testing, Selenium Webdriver, Manual Testing, Regression Testing, Ms Office, Word, Excel, Power Point, Windows, Internet, Insulation Resistance (ir) Test, Hi-pot Test, Magnetic Current Test, Magnetic Balance Test, Transformer Vector Group Test, Transformer Ratio Test, Contact Resistance Test, Crm Test,  C, C++, Windows 7-8/nt/xp,  Electronic System Testing, Assembly, Defect Traige, Hardware Testing, System Testing, Test Planning, Routine Test, Type Test, Temperature Rise Test,  Transformers Testing , Test Reports Prepration, Testing Analyse, Calibration Tools, Validation Tools,  Maintain Testing Ledger , Quality Inspection, Ms-power Point, Ms - Office, C, Protius, Pcb Design, Multisim, Micro Wind, Matlab, Keil, Latex, Internet Fundamentals, Software Knowledge,  Hardware Knowledge, Windows , Mysql, Sql Server, Core Java, Html, Css, Manual Testing, Database Testing,  Bug Tracking, Reporting, End User Handling')]"
      ]
     },
     "execution_count": 33,
     "metadata": {},
     "output_type": "execute_result"
    }
   ],
   "source": [
    "df0.take(1)"
   ]
  },
  {
   "cell_type": "code",
   "execution_count": 34,
   "id": "3837d995",
   "metadata": {},
   "outputs": [],
   "source": [
    "df= df0.select(split(col(\"Skills\"), \",\").alias(\"skill\"))\\\n",
    "    .drop(\"Skills\")"
   ]
  },
  {
   "cell_type": "code",
   "execution_count": 35,
   "id": "bc521fb5",
   "metadata": {},
   "outputs": [
    {
     "data": {
      "text/plain": [
       "[Row(skill=['Python', ' Pandas', ' Numpy', ' Scipy', ' Scikit-learn', ' Matplotlib', ' Sql', ' Java', ' Javascript', ' Jquery', ' Regression', ' Svm', ' Bayes', ' Knn', ' Random Forest', ' Decision Trees', ' Boosting Techniques', ' Cluster Analysis', ' Word Embedding', ' Sentiment Analysis', ' Natural Language Processing', ' Dimensionality Reduction', ' Topic Modelling', ' Lda', ' Nmf', ' Pca ', ' Neural Nets', ' Mysql', ' Sqlserver', ' Cassandra', ' Hbase', ' Elasticsearch', ' D3.js', ' Dc.js', ' Plotly', ' Kibana', ' Matplotlib', ' Ggplot', ' Tableau', ' Regular Expression', ' Html', ' Css', ' Angular 6', ' Logstash', ' Kafka', ' Python Flask', ' Git', ' Docker', ' Computer Vision', ' Understanding Of Deep Learning ', 'statsmodel', ' Aws', ' Keras', ' Sklearn', ' Matlab', ' Python', ' Java', ' Labview', ' Django', ' Flask', ' Ltspice', ' Mipower', ' Github', ' Gitbash', ' Jupyter Notebook', ' Xampp', ' Mysql', ' Python', ' Anaconda', ' Python2', ' Python3', ' Pycharm', ' Java Ide-eclipse', ' Windows', ' Ubuntu', ' Debian-kali', ' Linux', '  R', ' Python', ' Sap Hana', ' Tableau', ' Sap Hana Sql', ' Sap Hana Pal', ' Ms Sql', ' Sap Lumira', ' C#', ' Linear Programming', ' Data Modelling', ' Advance Analytics', ' Scm Analytics', '  Retail Analytics', ' Social Media Analytics', ' Nlp', ' C', ' Iot', ' Python', ' Matlab', ' Data Science', ' Machine Learning', ' Html', ' Microsoft Word', ' Microsoft Excel', ' Microsoft Powerpoint', ' Python', ' Tableau', ' Data Visualization', ' R Studio', ' Machine Learning', ' Statistics', ' Python', ' C', ' Seaborn', ' Numpy', ' Pandas', ' Cufflinks', ' Matplotlib', ' Knn', ' Decision Tree', ' Linear Regression', ' Logistic Regression', ' Neural Networks', ' K Means Clustering', ' Tensorflow', ' Svm', ' Sql', ' Oracle', ' Linux', ' Window', ' Netbeans', ' Notebooks', ' Sublime', ' Service Now', ' Remedy', ' Machine Learning', ' Deep Leaning', ' Nlp', ' Python', ' Sql', ' Web Scraping', ' Html', 'css', ' Text Classification', ' Recurrent Neural Networks(rnn', ' Pandas', ' Scikit-learn', ' Tensor Flow ', ' Nltk', ' Matplotlib', ' Numpy', ' Sql', ' Mysql', ' Lsa With Cosine Similarity', ' Selenium Web Driver', ' Beautiful Soup', ' Data And Quantitative Analysis', ' Decision Analytics', ' Predictive Modeling', ' Data-driven Personalization', ' Kpi Dashboards', ' Big Data Queries And Interpretation', ' Data Mining', ' Visualization Tools', ' Machine Learning Algorithms', ' Business Intelligence', ' Bi', ' Research', ' Reports', ' Forecasts', ' Typewriting', ' Tora', ' Spss', ' Human Resource', ' Finance', ' Windows Xp', ' Ms Officeword ', ' Excel', '  Power Point', ' Saral Payment Package- Payroll Software', ' Internet Applications', ' Hr Operations', ' Computerized Accounting With Tally', ' Sincere & Hard Working ', ' Management Accounting', ' Income Tax', ' Good Communication', ' Leadership', ' Two And Four Wheeler Driving License', ' Internet & Ecommerce Management', ' C Language', '  Web Programing', ' Tally', ' Dbms', ' Ms Office', ' Microsoft Dynamics Ax Software', ' Saiba Software', ' Dynamics', ' Dynamics Ax', ' Microsoft Dynamics', ' Microsoft Dynamics Ax', ' Ms Office', ' Attendance Maintenance', ' Time Cards Maintenance', ' Staffs And Labors Individual Records Maintenance', ' General Computer Proficiency', ' C', ' C+', ' Java', ' Web Programming', ' Matlab', ' Dbms', ' Communication And Analytic Skills', ' Database Management System', ' Dbms', ' Java', ' Matlab', ' Angular Js', ' Html5', ' Css3', ' Sass', ' Bootstrap', ' Jquery', ' Javascript', ' Brackets', ' Visual Studio', ' Photoshop', ' Visual Studio Code', ' Html', ' Css', ' Bootstrap', ' Php', ' Jquery', ' Ajax', ' Java Script', ' C ', ' Java', ' Html5', ' Css3', ' Bootstrap', ' Javascript', ' Jquery', ' Corel Draw', ' Photoshop', ' Illustrator', '  Mysql', '  Sublime Text', ' Notepad', ' Windows Xp', ' Windows', ' Java', ' Javascript', ' C', ' C++', ' J2ee', ' Spring', ' Hibernate', ' Functional Testing', ' Manual Testing', ' Windows ', ' Linux', ' Ms-office', ' My Sql', ' Postgresql', ' Angular', ' Java', ' Sql', ' Pl/sql', ' C', ' C++', ' Bootstrap', ' Jsp', ' Ext Js', ' Windows', ' Toad', ' Eclipse', ' Soapbox', ' Postman', ' Oracle', ' Ms-sql', ' Ms-access', ' Ms-excel', '  Xml', ' Web Services', ' Java', ' J2ee', ' Swift', ' Html', ' Shell Script', ' Mysql', ' Svn', ' Jenkins', ' Hudson', ' Weblogic12c', '  Android Studio', ' Eclipse', ' Oracle', ' Xcode', ' Win 10', ' Mac ', 'high Sierra', ' Android', ' Mobile App Development', ' Core Java', ' Advance Java', ' Jsf', ' Hibernate', ' Spring', ' C', ' Object Oriented Programming', ' Oot', ' C++', '  Database', ' Pps', ' Programming And Problem Solving', ' Advance Database', ' Ias', '  Information Assurance And Security', ' C++', ' C', ' Java', ' Ds', ' Jdbc', ' Hibernate', ' Java J2ee', ' Javascript', ' Jquery', ' Ajax', ' Ms Office', ' Excel', ' Springmvc', ' Hibernate', ' Jdbc', ' Java', ' J2ee', ' Azureweb', ' Suntechnologies', ' Jsp', ' Struts', ' Servlet', ' Restapi', ' Javascript', ' Ajax', ' Html', ' Json', ' Php', ' Mssql', ' Mysql', ' Oracle', ' Apachetomcatserver', ' Internet Technologies', ' Web Push Notifications', ' Azure Web Services', ' Ionic', ' Windows Server', ' R2', ' Win', ' Linux', ' Mac Os ', ' Angular Js', ' Windows', ' Visual Basic', ' Uml', ' Packet Tracer', ' Web Technologies', ' Core Java', ' Advance Java', ' Jsp', ' Hibernate', ' Spring', ' C', ' C++', ' Sql', ' Servlet', ' Jsp', ' Servlet', ' Html', ' Css', ' Java Script', ' Jquery', ' Ajax', ' Spring', ' Hibernate', ' Microsoft Windows', ' My Sql', ' Oops', ' Core Java', ' Advance Java', ' Eclipse', ' Net Beans Ide', ' Apache Tomcat', ' Jsp', ' Javascript', ' Html', ' Css', ' Jquery', ' Ajax', ' Json', ' Jdbc', 'tomcat', ' Mongodb', ' Mysql', ' Eclipse', ' Spring', ' Hibernate', ' Maven', ' Java', ' Servlet', ' Jsp', ' Spring Boot', ' Html5', ' Css3', ' Bootstrap', ' Javascript', ' Jquery', ' Ajax', ' Angularjs', ' Mysql', ' Eclipse', ' Spring', ' Suit', ' Net Beans', ' Sublime Text', ' Atom', ' Windows', ' Core Java', ' Jsp', ' Servlet', ' Spring', ' Hibernate', ' Struts', ' Javascript', ' Java', ' Windows', ' Linux', ' Centos', ' Oracle', ' My Sql And Derby', ' Embedded Db', ' Eclipse', ' Oxygen', ' Sonarqube', ' Putty', ' Adavance Java', ' Business Requirement Document', ' Brd', ' Functional Specification Document', ' Fsd', ' Iis', ' Jboss', ' Sql', ' Oracle', ' Db2', ' Ireport', ' Crystal Report', ' Requirement Gathering', ' Requirement Analysis', ' Design Specifications', ' Client Communication', ' System Documentation', ' Problem Solving', ' Sdlc', ' Windows Os', ' Unix', ' Linux', ' Ubuntu', ' Java', ' C++', ' Javascript', ' Html', ' Citrix Software', ' System Architect', ' Quality Center', ' Tortoise Svn', ' Doors', ' Artifact Viewer', ' Jformdesigner', ' Jira', ' Microsoft D365', ' Microsoft Office', ' Ms Excel', ' Ms Powerpoint', ' Ms Visio', ' Autocad', ' Vlsi', ' Ms-cit', ' Visio', ' Functional Testing', ' Business Analysis', ' System Architect', ' Uml', ' Hp Quality Center', ' Mwb', ' Test Data Creation', ' Test Case Writing', ' Test Case Execution', ' Manual Testing', ' Regression Tests', ' Bizagi', ' Ms Visio Prototyping Tool', ' Indigo Studio', ' Ms Office', ' Ms Word', ' Ms Excel', ' Ms Power Point', ' Smoke Testing', ' Sanity Testing', ' Integration Testing', ' Functional Testing', ' Acceptance Testing', ' Ui', ' Waterfall', ' Agile', ' Scrum', ' Sql', ' Hpqc Business Exposure', ' Windows', ' Ms-office', ' Excel', ' Word', ' Powerpoint', ' Html', ' Java', ' Php', ' Data Warehousing', ' Sql/pl Sql', ' Core Java', ' Python', ' Sap Bods', ' Sap Bo', ' Oracle 11g', ' Sybase', ' Etl', ' Sap Abap', ' Ale', ' Idoc', '  Edi', ' Sap Netweaver Gateway', ' Odata', ' Fiori', ' Is-retail', ' Apo', ' Is-auto', ' Ewm', ' Sap Techno', ' Sap Sd', ' Sap S', ' 4hana', ' Mm', ' Fi', ' Co', ' Sd', ' Ps', ' Pp', ' Cs', ' Pm', ' Qm', '  Hr', ' Scm', ' Solman', ' Sap Gts', ' Sap Pi', ' Sap Bi', ' Vistex', ' Proship', ' Hpqc', ' Ibm Managenow', ' Ca Service Desk', ' Loftware', ' Data Matrix', ' Sap Hana', ' Sap Bo', ' Sap Hana Sps12', ' Sap Ecc', ' Sql', ' Remedy', ' Sharepoint', ' Sap Logon', ' Webi', ' Power Bi', ' Sap Business Intelligence', ' Sap Bo', ' Design Studio', ' Idt', ' Webi', ' Udt', ' Cmc', ' Db Hana', ' Bw', ' Bex Queries', ' Sql', ' Sap Bi', ' Teradata Db', ' Query Builder', ' Hpsm Ticketing Tool', ' Smartforms', ' Selenium Webdriver', ' Sikuli', '  Autoit', ' Jira', ' Hpqc', ' Alm', ' Scrum', ' Plc', ' Pac', ' Scada', ' Hmi', ' Interfacing', ' Drives', ' Mcc Panel', ' Vfd', ' Plc Hardware', ' Ab', ' Schneider', ' Siemens', ' Omron', ' Delta', ' Abb', ' Ge-fanuc', ' Control Relay Logic', ' Ladder Logic', ' Scada', ' Intouch', ' Vijeo-citect', ' Wincc', ' Ifix', ' Factory Talkview', ' Opc (kepware)', ' Hmi', ' Interfacing', ' Vfd', ' Honeywell Dcs C-300', ' Autocad', ' Eplan', ' Rockwell', ' Twido-suite', ' Step7-microwin Sp2', ' Unity Pro Xl', ' Cx-programmer', ' Wpl Software', ' Codesys', ' Versa Pro', ' Wonderware', ' Citectscada7.4', ' Proficy Hmi Scada/ifix', ' Factotytalk View', ' Windows', ' Mac', ' Selenium Webdriver', ' Testng', '  Data Driven', ' Page Object Model', ' Eclipse', ' Postman', ' Version Control', ' Continuous Integration', ' Maven', ' Svn', ' Jenkins', ' Sql', ' Java', ' C++', ' Html', ' Javascript', ' Windows', ' Employee Resource Group', ' Enterprise Resource Planning', ' Jsf', ' Rich Faces', ' Spring', ' Restful Web Service', ' Agile Methodology', ' Scrum', ' Kanban', ' Extreme Programming', ' Xp', ' Test-driven Development', ' Tdd', ' Feature Driven Development', ' Fdd', ' Modular', ' Data Driven', ' Bpt', ' Hybrid Test', ' Hp Uft', ' Taf', ' Load Runner', ' Selenium', ' Rational Robot', ' Dcmtk', ' Sikuli', ' Vb Script', ' C++', ' Python', ' Shell Script', ' Bugzilla', ' Jira', ' Hp Quality Control', ' Ap Test', ' Clear Quest', ' Clear Case', ' Win Cvs', ' Svn', ' Oracle', ' Sql Server', ' Mysql', ' Tcp', ' Ip', ' Http', ' Https', ' Vpn', ' Ftp', ' Ldap', ' Dicom', ' Pacs', ' Hl7', ' Image Archiving', ' Image Reconstruction', ' Rockwell Automation', ' Logix Designer', ' Factory Talk', ' Rslinx Classic', ' Control Flash', ' Compare Tool', ' I/o Modules', ' Profiles', ' �manual And Automation Testing', ' Selenium Ide', ' Testng', ' Selenium Grid', ' Jenkins', ' Apache Poi', ' Sdlc', ' White Box Testing', ' Black Box Testing', ' Functional Testing', ' Integration Testing', ' System Testing', ' Ad Hoc Testing', ' Smoke Testing', ' Usability Testing.', ' Reliability Testing', ' Exploratory Testing', ' Globalization Testing', ' Compatibility Testing', ' Stlc', ' Regression ', ' Retesting', ' Defect Tracking', ' Defect Life Cycle', ' Test Plan', ' Traceability Matrix', ' Api Testing', ' Sanity Testing', ' Ad Hoc Testing', ' Regression Testing', ' Selenium Webdriver', ' Smoke Testing', ' Black Box Testing', ' Ad-hoc Manual Testing', ' Core Java', ' Selenium Web Driver', ' Selenium', ' Ms Sql Server', ' Oracle 10g', ' Windows', ' Agile Methodology', '  Sdlc', ' Estimate & Solution Document', ' Fs', ' Ts', ' Coding', ' Utp', ' Utr', ' Ptf', ' Sow', ' Debugging', ' Testing', ' Python', ' As/400', ' Change Controller', ' Python Web Crawling', ' Python Web Scraping', ' Python For Data Science', ' Mongodb', ' Mysql', ' Postgresql', ' Django', ' Angular 6', ' Html', ' Css', ' Core Java', ' Ibm I Series As\\\\400', ' Movex Erp', '  Rpg', ' Rpgle', ' M3 Erp', ' Stream Server', ' M3 Enterprise Collaborator', ' Mec', ' Flask', ' Restful', ' Rest', ' Numpy', ' Cache', ' Memoization', ' Git', ' Pws', ' Pivotal Web Service', ' Cl/400', ' Ile Rpg', ' Ile Cl', ' Db2/400', ' Query400', ' Sql/400', ' Subfiles', ' Printer Files', ' Pf', ' Lf', 'database Structure', ' Mi Programs', ' Ubuntu', ' Fedora', ' Cent Os', ' Windows', ' Mysql', ' Python', ' Tensorflow', ' Numpy', ' C', ' C++', ' Python', ' Django', ' Drf', ' Mysql', ' Oracle', ' Sqlite', ' Mongodb', ' Css', ' Html', ' Restful Web Services', ' Rest Methodologies', ' Agile', ' Scrum', ' Github', ' Jira', ' Window', ' Unix', ' Logger', ' Json', ' Urllib', ' Python', ' Database', ' Mysql', ' Django', ' Html5', ' Rest Api', ' Opencv', ' Pil', ' Numpy', ' Git', ' Windows', ' Ms Excel', ' Ms Office', ' Ms Power Point', ' Python Scripting', ' Html', ' Python Liabrary', ' Numpy', ' Pandas', ' Matplolib', ' Requests', ' Beautiful Soap', ' Mysql', ' Django', ' Web Scrapping ', ' C', ' C ++', ' Java', ' Tk', ' Cloud Computing', ' Shell Scripting', ' Python', ' Automation', ' Solution Architect', ' Aws Cloud', ' Azure Cloud', ' Aws Ec2', ' Rds', ' Cloudformation Template', ' Lambda', ' Dynamo Db', '  Cloud Watch', ' Auto-scaling', ' Elastic Bean Stalk', ' Appdynamics', ' C', ' Sql', ' Pl/sql', ' Java', ' Javaee', ' Javascript', ' Html', ' Css', ' Jquery', ' Mysql', ' Spring ', ' Hibernate', ' Xillinx', ' Modelsim', ' Matlab', ' Multisim', ' Windows Xp', ' Vista', ' Ubuntu', ' Aws', ' Python', ' Ant', ' Maven', ' Git', ' Bitbucket', ' Jenkins', ' Linux', ' Ansible', ' Shell Scripting', ' Requirement Gathering', ' Continuous Integration', ' Continuous Deployment', ' Software Development Life Cycle', ' Software Testing Life Cycle', ' Documentation', ' Reporting', ' Test Reports', ' Dev-ops Methodologies', ' C', ' Core Java', ' Apache Tomcat Server', ' Change Management', ' Configuration Management', ' .net', ' Sharepoint', ' Ms Sql', ' Oracle', ' Pl/sql', ' Project Management', ' Execution', ' Cloud Computing', ' Azure', ' Amazon Aws', ' Ec2', ' Cloud', ' Xml', ' Xaml', ' Xslt', ' Html5', ' Dhtml', ' Css3', ' Javascript', ' Jquery', ' Json', ' Angularjs', ' Web Api', ' Odata Service', ' Vbscript', ' Node Js', ' Qa Activities', ' Ui Design', ' Mobile Development', ' Java', ' Jsp', ' Swing', ' J2ee', ' Service Oriented Architecture', ' Soa', ' Web Service', ' Wcf Service', ' Web Api', ' Requirement Gathering', ' Mvc', ' Mvp', ' Abstract Factory', ' Ooad', ' Uml', ' .net Sap Connector', ' Sap', ' Asp.net Client Management', ' Sap Web Channel', ' Sap Enterprise Portal Environment', ' Android', ' Ios', ' Team Foundation Server', ' Tfs', ' Github', ' Ibm Rational Key', ' Account Management', ' Devops', ' Team Forge', ' Sharepoint', ' Portal Administration', ' Development', ' Collabnet', ' Jira', ' Iot ', ' Web Analytics', ' Data Analytics', ' Machine Learning', ' Ai', ' Expertise Bi Tools', ' Crystal Report', ' Escalation Management', ' Ssrs', ' Tableau', ' Micro Strategy', ' Qlikview', ' It Network', ' Infrastructure Monitoring Tool', ' Centreon', ' Cisco', ' Meraki', ' Biztalk', ' Bam', ' Microsoft Sharepoint', ' Sharepoint', ' Sql', ' Asp', ' Asp.net', ' Virtual Reality', ' Wearable Technology', ' Machine Learning', ' Ai', ' 3d Printing', ' C#', ' Wcf', '', ' Wwf', ' Jquery', ' Json', ' Javascript', ' Html 5', ' Css3', ' Windows Azure Cloud', ' Sharepoint', ' N-hibernet', ' Nunit Test', ' Telerik Controls', ' Sql Server', '  T-sql', ' Moss', ' Ssis', ' Crystal Report', ' Dreamweaver', ' Xml', ' Xslt', ' Web Parts', ' Ajax', ' Oracle 8i', ' Sap Connector', ' Vpn', ' Vb.net', ' Xml', ' Oracle 9i', ' Pl/sql', ' Toad', ' Java Jsp', ' Servlet', ' Swing', ' Vb 6', ' Vc++', ' Ms Sql Server', ' Ms Data Report', ' Macromedia Flash', ' Fire Works', ' C++', ' Vb6', ' Sql2000', ' Lotus Notes', ' Ms Active Report', ' Vc ++', ' Matlab', ' Project Management', ' Program Management', ' Agile', ' Scrum', ' Risk Management', ' Client Management', ' Process Improvements', ' Proposals', ' Rfe', ' Selenium', ' Rally', ' Ibm Td Platform', ' Python', ' Devops', ' Devsecops', ' Safe', ' Agile Craft', ' Delivery Management', ' Test Management', ' Project Finance', ' Program Finance', ' Profit Maximization', ' Internal Audits', '  External Audits', ' Software Testing', ' Quality Assurance', ' Visual Basic 6.0', ' Ms-sql Server', ' Oracle 8/8i', ' Conformiq', ' Hp Qc', ' Hp Qtp', ' Crystal Report ', ' Data Base Design', ' Php', ' Python', ' Mysql', ' Javascript', ' Html 5', ' Ajax', ' Jquery', ' Xml', ' Agile Methodology', ' Devops Methodology', ' Scrum Framework', ' Jira Tool', ' Git', ' Bitbucket', ' Anjular Js 1', ' Angular Js 2', ' Core Java', ' J2ee', ' Amazon Aws ', ' Bootstrap', ' Node.js', ' Laravel', ' Scrum', ' Hp Alm', ' Rtc', ' Jira', '  As400 ', ' Iseries', ' Sql', ' Test Automation', ' X- Framework', ' Uft', ' Lisa', ' Test Data Automation', ' Catdm', ' Test Scheduling', ' Jenkins', ' Maven', ' Test Document', ' Versioning', ' Confluence', ' Sharepoint', ' Cucumber', ' Selenium', ' Bdd', ' Tosca', ' Ci/cd', ' Network Security', ' Checkpoint', ' Cisco', ' Cisco Asa', ' Cisco Routing And Switching', ' Loadbalncing F5', ' Security', ' Cisco', ' Vpn', ' Lan', ' Networking', ' Cisco Certified Network Associates', ' Ccna ', '  Ethernet Mediums', ' Ethernet Communication', ' Ethernet Communication Devices', ' Ipv4 Subnetting', ' Ipv4 Supernetting', ' Routing', ' Switching', ' Access Lists', ' Network Address Translation (nat)', ' Virtual Lans ', ' Vlans', ' Cisco Certified Network Associates', ' Ccna-security', '  Access Attacks', ' Reconnaissance Strategies', ' Configuration Of Firewalls', ' Access Control Lists', ' Private Vlans', ' Vlan Hopping', ' Ip Source Guard', ' Dhcp Snooping', ' Authentication', ' Authorization & Accounting ', ' Aaa', ' Ip Security', ' Ipsec', ' Cisco Certified Network Professional', ' Ccnp-routing', ' Switching & Mpls', ' Routing-configuration', '  Eigrp', ' Ospf', ' Bgp', ' Switching-virtual Lans', ' Vlans', ' Spanning Tree Protocol', ' Stp', ' Queuing', ' Mpls', ' Multi-protocol Label Switching', ' Penultimate Hopping', ' Cisco Certified Network Professional Security', ' Asa Module', ' Control Plane Security', ' Management Plane Security', ' Data Plane Security', ' Network Telemetary Ntp', ' Netflow', ' Logging', ' Nat Fundamental', ' Firewall Filtering Technologies', ' Asa Modes', ' Asa Failover', ' Security Context', ' Reputation Based Firewall', ' Identity Firewall', ' Zone Based Firewall', ' Networking', ' Subnetting', ' Supernetting', ' Access Lists', ' Acls', ' Network Address Translation', ' Nat', ' Vlan', ' Aaa', ' Ipsec', ' Access Control Lists', ' Dhcp Snooping', ' Private Vlan', ' Vlan Hopping', ' Vpn', ' Routing Protocols', ' Rip', ' Eigrp', ' Ospf', ' Bgp', ' Dm-vpn', ' Switching', ' Control Plane Security', ' Data Plane Security', ' Management Plane Security', ' Network Telemetary', ' Firewall', ' Firewall Filtering Technologies', ' Asa Failovers', '  Zone Based Firewall', ' Reputation Based Firewall', ' Security Context', ' Security', ' Network Security', ' Network Administration', ' Firewall Configuration', ' Vpn Configuration', ' Routing', ' Switching', ' Cisco Asa', ' Checkpoint Firewall', ' Gaia', ' Splat', ' Palo Alto Firewalls', ' Firewall Management Tools', ' Cisco Security Management', ' Csm', ' Checkpoint Smart Center', ' Palo Alto Panorama', ' F5 Load Balancer', ' Ltm', ' Networking', ' Cisco Router', ' Cisco Switches', ' Security Management', ' Event Management', ' Rsaenvision 4.1', ' Ticketing Tools', '  Bmc Remedy', ' Service-now', ' Python', ' Vb Scripting', ' Juniper', ' Windows', ' Linux', ' Ubuntu', ' Cisco Routing', ' Cisco Switching', ' Intervlan Routing', ' Dynamic Protocols', ' Ripv2', ' Ripng', ' Ospf', ' Eigrp', ' Static Routing', ' Acl', ' Vtp', ' Vlan', ' Ehterchannel', ' Hsrp', ' Stp', ' Ipv6', ' Lan Troubleshooting', ' Structured Network Cabling', ' Cisco Firewall', ' Fortinet Firewall', ' Rhel 6 Networks', ' Cisco Routers', ' Cisco Switches', ' Cisco Catalyst', ' Hp Proliant Servers', ' Dell Server', ' Lenovo Servers', ' Fortinet Firewall', ' Modem', ' Ad', ' Rodc', ' Ftp', ' Print Server', ' Sccm', ' Wds', ' Dhcp', ' Group Policies', ' Dhcp Server', ' Dns Server', ' Ris Server', ' User Policies', ' Computer Policies', ' Server 2016 Backup Tools', ' Symantec Backup Exec 12d', ' Virtualisation', ' Vmware Esxi', ' Vmware Workstation', ' Oracle Virtualbox', ' Gns3 Network Simulator', ' Cisco', ' Dhcp', ' Dns', ' Ftp', ' Lan', ' Sql', ' Sql Server', ' Postgresql', ' Oracle 11g', ' R2', ' Redhat Linux', ' Oracle Linux', ' Windows Server', ' Gui', ' Silent Dbca', ' Architecture', ' File Management', ' Space Management', ' User Management', ' Creating Roles', ' Assigning Privileges', ' Troubleshooting', ' Control Files', ' Redolog', ' Archive', ' Undo Management', ' Configuring Listener.ora', ' Configuring Tnsnames.ora', ' Netmgr', ' Netca', '  Awr Reports', ' Addm', ' Ash', ' Database Backup', ' Cloning/duplicate', ' Hot Backups', ' Cold Backups', ' Rman', ' Flashback Technologies', ' Expdp', ' Impdp', ' Oracle11g R2 Rac', ' Crsctl', ' Srvctl', ' Data Guard', ' Ldap Authentication', ' Gssapi Authentication', '  Emc Technology', ' Window Server', ' Sql Server', ' Sybase Ase Server', ' Oracle', ' Mongodb', ' Monitoring', ' Ticketing Tools', '  Hp Service Manager', ' Solar Winds Dpa', ' Jira', ' Mongodb Ops Manager', ' Web Server Iis 7.0', ' Ssms', ' Dbartisan', ' Studio 3t', ' Snapshot Manager', ' Windows Server', ' Ms Litespeed', ' Idera Sql Safe', ' Ssms', ' Upgrade Advisor', ' Sql Server Profiler', ' Scom', ' Diagnostic Manager', ' Remedy', ' Jira', ' Infopacc', ' Tivoli Tdp Backup Tool', ' Sql Pack', ' Ms Sql Server', ' R2', ' Oracle 10g', ' Netezza', ' Microsoft Azure ', ' Database Mirroring', ' Performance Tuning', ' Log Shipping', ' Installation ', ' Upgrade', ' Migration And Patching ', ' Azure Vm', ' Azure Storage', ' Azure Network', ' Azure Ad', ' Azure Sql Database', ' Incident Management', ' Change Management And Problem Management', ' Availability Groups', ' Clustering', ' Dba Support', ' Oracle Dba', ' Mysql', ' Mariadb', ' Postgresql', ' Sql Oracle ', ' Mysql', ' Mariadb', ' Postgresql Windows', ' Linux', ' Putty', ' Database Administration', ' Mysql Dba ', ' Centos ', ' Backup ', ' Restore ', ' Replication ', ' Query Optimazation', ' Scripts', ' Server Shifting ', ' Tuning Parameter ', ' Database Purging', ' Mysql Master Slave Replication', ' Release Management', ' User Acceptance', ' Linux', ' Windows', ' Linux', ' Windows Server', ' R2', ' Windows 98', ' Windows', ' Sql* Loader', ' Sql*plus', ' Oem', ' Datapump', ' Expdp', ' Impdp', ' Plsql Developer', ' Jenkins', ' Oracle 10g', ' Oracle 11g', ' Oracle 12c', ' Scripting', ' Unix Shell Scripting', ' Sql', ' Rac', ' Golden Gate', ' Asm', ' Dataguard', ' Aws Cloud Services', ' Ec2', ' S3', ' Rds', ' Elb', ' Ebs', ' Vpc', ' Route53', ' Auto', ' Cloud Watch', ' Cloud Front', ' Iam', ' Awr Reports', ' Ash Reports', 'addm Reports', ' Oracle Rdbms', ' Data Pump', ' Rman', ' Data Guard', ' Asm', ' Rac', ' Golden Gate', ' Occ', ' Putty', ' Sqlplus', ' Sql Developer', ' Netbackup', ' Scom', ' Sccm', ' Vmware', ' Vsphere', ' Rhel 6.0', ' Rhel 6.5', ' Unix', ' Microsoft Windows', ' Rdbms', ' Ms Sql', ' Windows', ' Windows Server', '  Ms Office', '  Ssms', ' Performance Monitor', ' Sql Profiler', ' Sql Lite Speed', ' Dr Tests', ' Oracle Databases', ' Weblogic', ' Grid Infrastructure', ' Rman', '  Asm', ' Oim', ' Oam', ' Soa', ' Shell Scripts', ' Dataguard', ' Ohs', ' Apache', ' Architecture Designs', ' Proof Of Concepts', ' Devops', ' Middleware', ' Fw Openings', ' Loadbalancer Configuration', '  Smtp', ' Ftp', ' Reverse Proxy', ' Ocm', ' Rcusql', ' Oracle', ' R ', ' Python', ' Linear Regression', ' Machine Learning', ' Statistical Modelling ', ' Capacity Planning', ' Installation', ' Configuration', ' Database Design', ' Migration', ' Security', ' Troubleshooting', ' Backup', ' Data Recovery', ' Spark Scala', ' Spark Sql', ' Test Scenarios', ' Test Cases', ' Multi Cluster On Aws', ' Hdfs', ' Mapreduce', ' Pig', ' Hive', ' Hbase', ' Zookeeper', ' Distributed Processing Algorithms', ' Sqoop', '  Oracle', ' Teradata', ' Rdbms ', ' Mysql ', ' Java', ' Linux', ' Nosql', ' Storm', ' Tomcat', ' Putty', ' Svn', ' Github', ' Ibm Websphere V8.5', '  Flume', ' Oozie', ' Visualization', '  Cloudera', ' Shell Scripting', '  Pl/sql', ' Python', ' Hadoop', ' Map Reduce', ' Hdfs', ' Hive', ' Sqoop', ' Java', ' Hadoop Distributed File System', ' Scala', '  Spark', ' Hive', ' Hbase', '  Mysql', ' Oracle', ' Shell Scripting', ' Eclipse', '  Linux', ' Windows', ' Git', ' Github', ' Linux', ' Ubuntu', ' Windows 2007/08', ' Tableau', ' Svn', ' Beyond Compare', ' Hadoop', 'spark', 'sqoop', 'hive', 'flume', 'pig', ' Sparkapi', ' Cloudera Hadoop Yarn', ' Orc', '  Parquet', ' Sql', ' Hadoop-hdfs', ' Mapreduce', ' Hive', ' Pig', ' Sqoop', ' Hbase Oozie', ' Spark', ' Pyspark', ' Hue', ' Cassandra', ' Python', ' Core Java', '  Scala', ' Oracle 10g', ' Mysql', ' Sqlserver', ' Hbase', ' Eclipse', ' Toad', ' Ftp', ' Tectia', ' Putty', ' Autosys', ' Anaconda', ' Jupyter Notebook', ' Devops', ' Rtc', ' Rlm', '  Jsp', '  Windows', ' Unix', ' Machine Learning', '  Hdfs', ' Yarn', ' Hive', ' Sqoop', ' Hbase', ' Tez', ' Tableau', ' Sqlserver', ' Teradata', ' Hdfs', ' Yarn', ' Hive', ' Oozie', ' Spark', ' Unix', ' Autosys', ' Python', ' Rtc', ' Rlm', ' Etl', ' Apache Hadoop', ' Python', ' Shell Scripting', ' Sql', ' Hive', ' Pig', ' Sqoop', ' Flume', ' Oozie', ' Impala', ' Hdfs', '  Dataiku', ' Unravel', ' Cloudera', ' Putty', ' Hue', ' Cloudera Manager', ' Eclipse', ' Resource Manager', ' Hadoop', ' Hive', ' Sqoop', ' Flume', ' Pig', ' Mapreduce', ' Python', ' Impala', ' Spark', ' Scala', ' Sql', ' Unix', '  C', ' C++', ' Java', ' .net.', ' J2ee', ' Html5', ' Css', ' Mapreduce', ' Javascript', ' Python', '  Oracle ', 'pl-sql', ' My-sql', ' Ibm Db2 Tools', ' Ibm Rational Rose', ' R', ' Weka', '  Windows Xp', ' Vista', ' Unix', ' Windows 7', ' Red Hat', ' Hdfs', ' Mapreduce', ' Hive', ' Spark', ' Scala', ' Sqoop', ' Kerberos', '  K-means Clustering', ' Random Forest', ' Bayes', ' Azure And Aws', ' Emr', ' Hadoop', ' Hdfs', ' Hbase', ' Map Reduce', ' Sqoop', ' Hive', ' Pig', ' Spark-core', ' Flume', ' Scala', ' Core-java', ' Sql', ' Plsql', ' Sell Scripting Etl', ' Informatica Power Center8.x/9.6', ' Talend 5.6', ' Eclipse', ' Intellij Idea', ' Windows Family', ' Linux', ' Unix', ' Cloudera', '  Mysql', ' Oracle', ' Unit Case Testing', ' Uat', ' Informatica Power Center', ' Mapping Designing', ' Extract', ' Transform', ' And Load', '  Integration Of Sql', ' Integration Of Server Tables', ' Integration Of Flat Files', ' Data Warehouse', ' Sql', ' Plsql', ' Microsoft Sql Server', ' Unix', ' Shell Scripting', ' Error Debugging', ' Job Scheduling', ' Autosys', ' Incident Management', ' Change Requests', ' Service Now', ' Jira', ' Agile Central', ' Intellimatch', ' Reconciliation Tool', ' Oracle 11g', ' Investment Banking', ' Advertising', ' Insurance', ' Sql', ' Plsql', ' Informatica 9.1', ' Windows', ' Unix', ' Data Warehousing', ' Business Intelligence', ' Etl', ' Extract', ' Transform', ' Load', ' Oracle 11g', ' Facets 5.0', ' Tidal', ' Informatica', '  Pl-sql', ' Unix', ' Jira', ' Putty', ' Talend Big Data', ' Informatica Power Center', ' Microsoft Sql Server', ' Sql Platform 6.2.1', '  Management Studio Workbench', ' Aws Services', ' Talend Administration Console', ' Microsoft Visual', ' Redshift Studio', ' Tac Studio', ' Athena', ' Data Warehouse', '  Star', ' Sql', ' S3 Schema', ' Facts', ' Dimension', ' Data Modeling', ' Data Integration', '  Microsoft Access', ' Sql', ' Unix', ' Data Warehouse', ' Ab Intio', ' Datastage', ' Etl', ' Asp .net', ' Html', ' Css', ' Jquery', ' C', ' C++', ' C#.net', ' Mvc 5', ' Sql Server 2005/2008/2016', ' Kindo Ui', ' Telerik Functions', ' Crystal Report', '  Visual Stadio', ' Asp.net', ' Mvc', ' Unit Testing', ' Entity Framework 6.0', ' C#', ' .net', ' Js', ' Javascript', ' Jquery', ' Angular1.5', ' Typescript', ' Visual Studio ', ' Visual Studio Code ', ' .net Framework 2.0', ' .net Framework  3.5', ' .net Framework  4.0', ' .net Framework  4.5', ' Sql Server 2005', ' 2008', ' 2014', ' 2015', ' Tortoise Svn', ' Git', ' C', ' C#', ' Oop', ' Asp.net Mvc', ' Ado.net', ' Entity Framework', ' Linq ', ' Html', ' Css', '  Javascript', ' Jquery', ' Ajax', ' Json', '  Internet Explorer 8.0', ' Mozilla Firefox10', '  Bootstrap', ' Kendo Ui', '  Sql Server 2012', ' Visual Studio 2013', ' Ms Window 2007', ' C#', ' .net', ' Asp.net Mvc', ' Web Api', ' Angular', ' Jquery', ' Html5', ' Css3', ' Bootstrap', ' Sql Server 2014', ' Visual Studio 2015', ' Visual Studio Code', ' Ms-office ', ' Access', ' Word', ' Excel', ' Asp.net', 'c#', ' Html', ' Css', ' Sql', ' Javascript', ' Sql Server ', ' C#', ' Asp .net Mvc', ' Html', ' Css', ' Javascript', ' Angularjs', '  Entity Framework', '  Sql Server 14', ' Visual Studio 13', 'dot Net', ' Blockchain', ' Smart Contracts', ' Dapps', ' Mean Stack ', ' Bit Bucket', ' Apis', ' Ethereum', ' Smart Contracts', ' Golang', ' Nodejs', ' Angular', ' React', '  Mongodb', ' Postgresql', ' Mysql', ' Aws', ' Docker', ' Microservice', 's Blockchain', ' Protocol', ' Consensus', ' Dapps', ' Solidity', ' Mean Stack', ' Express', ' Cakephp', ' Php Framework', ' Jquery', '  Ecommerce Framework', ' Opencart', ' C', ' C++', ' Python', ' Apex', ' Visualforce', ' Mysql', ' Django', ' Salesforce', ' Force', ' Salesforce Crm', ' Blockchain', ' Html5', ' Css3', ' Ap', ' Customer Relationship Management', ' Smart Contract', ' Waves', ' Ethereum', ' C', ' C++', ' Java', ' Windows Xp', ' 7', ' Ubuntu', '  Oracle', ' My Sql', ' Postgresql', ' Html', ' Javascript & Php', ' Css', ' Jquery', ' Angular Js', ' Struts', ' Hibernate', ' Spring', ' Mvc', ' Tomcat', ' Glassfish', ' Rest', ' Soap ', ' Bitcoin', ' Ethereum', ' Smart Contract', ' Solidity', ' Api', '  Java Spring', ' Audit Logger', ' Doc Safe', '  Ripple', ' Hyperledger Fabric ', ' Node Js', ' React Js', ' Express Js', ' Bitcoin', ' Ethereum', ' Solidity', ' Hyperledger', ' Go', ' R3 Corda', ' Tendermint', ' Nodejs', ' C ', ' Java', ' Machine Learning', ' Brain Computer Interface', ' Computer Networking', ' Server Admin', ' Computer Vision', ' Data Analytics', ' Cloud Computing', ' Reactjs', ' Angular Js', ' Logical And Analytical Skills', ' Positive Attitude', ' Solving Problems', ' Accepting Challenges', ' Team Player', ' Leader', ' Organizer', ' Ms-office', ' Powerpoint', ' Word', ' Outlook', ' Excel', ' C', ' Cpp', ' Java', ' Networking', ' Linux', ' Android', ' Database', ' Selenium', ' Automation Testing', ' Selenium Webdriver', ' Manual Testing', ' Regression Testing', ' Ms Office', ' Word', ' Excel', ' Power Point', ' Windows', ' Internet', ' Insulation Resistance (ir) Test', ' Hi-pot Test', ' Magnetic Current Test', ' Magnetic Balance Test', ' Transformer Vector Group Test', ' Transformer Ratio Test', ' Contact Resistance Test', ' Crm Test', '  C', ' C++', ' Windows 7-8/nt/xp', '  Electronic System Testing', ' Assembly', ' Defect Traige', ' Hardware Testing', ' System Testing', ' Test Planning', ' Routine Test', ' Type Test', ' Temperature Rise Test', '  Transformers Testing ', ' Test Reports Prepration', ' Testing Analyse', ' Calibration Tools', ' Validation Tools', '  Maintain Testing Ledger ', ' Quality Inspection', ' Ms-power Point', ' Ms - Office', ' C', ' Protius', ' Pcb Design', ' Multisim', ' Micro Wind', ' Matlab', ' Keil', ' Latex', ' Internet Fundamentals', ' Software Knowledge', '  Hardware Knowledge', ' Windows ', ' Mysql', ' Sql Server', ' Core Java', ' Html', ' Css', ' Manual Testing', ' Database Testing', '  Bug Tracking', ' Reporting', ' End User Handling'])]"
      ]
     },
     "execution_count": 35,
     "metadata": {},
     "output_type": "execute_result"
    }
   ],
   "source": [
    "df.take(1)"
   ]
  },
  {
   "cell_type": "code",
   "execution_count": 36,
   "id": "f5e3fd36",
   "metadata": {},
   "outputs": [
    {
     "data": {
      "text/plain": [
       "DataFrame[skill: array<string>]"
      ]
     },
     "execution_count": 36,
     "metadata": {},
     "output_type": "execute_result"
    }
   ],
   "source": [
    "df"
   ]
  },
  {
   "cell_type": "code",
   "execution_count": 46,
   "id": "691f45da",
   "metadata": {},
   "outputs": [
    {
     "name": "stdout",
     "output_type": "stream",
     "text": [
      "+------------+\n",
      "|no_of_skills|\n",
      "+------------+\n",
      "|        2130|\n",
      "+------------+\n",
      "\n"
     ]
    }
   ],
   "source": [
    "df.select(size(\"Skill\").alias(\"no_of_skills\")).show()"
   ]
  },
  {
   "cell_type": "code",
   "execution_count": 47,
   "id": "b76447e1",
   "metadata": {},
   "outputs": [],
   "source": [
    "df1= df.withColumn(\"skill_d\", array_distinct(\"skill\"))\\\n",
    "    .drop(\"skill\")"
   ]
  },
  {
   "cell_type": "code",
   "execution_count": 48,
   "id": "e94b4d7e",
   "metadata": {},
   "outputs": [
    {
     "name": "stdout",
     "output_type": "stream",
     "text": [
      "+--------------------+\n",
      "|             skill_d|\n",
      "+--------------------+\n",
      "|[Python,  Pandas,...|\n",
      "+--------------------+\n",
      "\n"
     ]
    }
   ],
   "source": [
    "df1.show(3)"
   ]
  },
  {
   "cell_type": "code",
   "execution_count": 49,
   "id": "fc3bf347",
   "metadata": {},
   "outputs": [
    {
     "name": "stdout",
     "output_type": "stream",
     "text": [
      "+------------+\n",
      "|no_of_skills|\n",
      "+------------+\n",
      "|        1359|\n",
      "+------------+\n",
      "\n"
     ]
    }
   ],
   "source": [
    "df1.select(size(\"skill_d\").alias(\"no_of_skills\")).show()"
   ]
  },
  {
   "cell_type": "code",
   "execution_count": 52,
   "id": "44fe581d",
   "metadata": {},
   "outputs": [
    {
     "name": "stderr",
     "output_type": "stream",
     "text": [
      "                                                                                \r"
     ]
    }
   ],
   "source": [
    "df1.write.format(\"json\").save(\"filteredskills\")"
   ]
  }
 ],
 "metadata": {
  "kernelspec": {
   "display_name": "Python [conda env:bigdata]",
   "language": "python",
   "name": "conda-env-bigdata-py"
  },
  "language_info": {
   "codemirror_mode": {
    "name": "ipython",
    "version": 3
   },
   "file_extension": ".py",
   "mimetype": "text/x-python",
   "name": "python",
   "nbconvert_exporter": "python",
   "pygments_lexer": "ipython3",
   "version": "3.7.10"
  }
 },
 "nbformat": 4,
 "nbformat_minor": 5
}
